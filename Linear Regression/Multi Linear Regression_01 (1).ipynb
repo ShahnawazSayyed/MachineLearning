{
 "cells": [
  {
   "cell_type": "code",
   "execution_count": 8,
   "metadata": {},
   "outputs": [],
   "source": [
    "import pandas as pd\n",
    "import statsmodels.formula.api as smf\n",
    "import statsmodels.api as sm\n",
    "\n",
    "price = [160,180,200,220,240,260,280]\n",
    "sale = [126,103,82,75,82,40,20]\n",
    "cars = [0,9,19,5,25,1,20]\n",
    "priceDF = pd.DataFrame(price, columns=list('x'))\n",
    "saleDF = pd.DataFrame(sale, columns=list('y'))\n",
    "carsDf = pd.DataFrame(cars, columns=list('z'))\n",
    "houseDf = pd.concat([priceDF,saleDF,carsDf],axis=1)"
   ]
  },
  {
   "cell_type": "code",
   "execution_count": 9,
   "metadata": {},
   "outputs": [
    {
     "name": "stdout",
     "output_type": "stream",
     "text": [
      "     x    y   z\n",
      "0  160  126   0\n",
      "1  180  103   9\n",
      "2  200   82  19\n",
      "3  220   75   5\n",
      "4  240   82  25\n",
      "5  260   40   1\n",
      "6  280   20  20\n"
     ]
    }
   ],
   "source": [
    "print(houseDf)"
   ]
  },
  {
   "cell_type": "code",
   "execution_count": 16,
   "metadata": {},
   "outputs": [
    {
     "name": "stderr",
     "output_type": "stream",
     "text": [
      "C:\\Users\\shahn\\Anaconda3\\lib\\site-packages\\statsmodels\\stats\\stattools.py:71: ValueWarning: omni_normtest is not valid with less than 8 observations; 7 samples were given.\n",
      "  \"samples were given.\" % int(n), ValueWarning)\n"
     ]
    },
    {
     "data": {
      "text/html": [
       "<table class=\"simpletable\">\n",
       "<caption>OLS Regression Results</caption>\n",
       "<tr>\n",
       "  <th>Dep. Variable:</th>            <td>y</td>        <th>  R-squared:         </th> <td>   0.919</td>\n",
       "</tr>\n",
       "<tr>\n",
       "  <th>Model:</th>                   <td>OLS</td>       <th>  Adj. R-squared:    </th> <td>   0.879</td>\n",
       "</tr>\n",
       "<tr>\n",
       "  <th>Method:</th>             <td>Least Squares</td>  <th>  F-statistic:       </th> <td>   22.74</td>\n",
       "</tr>\n",
       "<tr>\n",
       "  <th>Date:</th>             <td>Fri, 22 Nov 2019</td> <th>  Prob (F-statistic):</th>  <td>0.00654</td>\n",
       "</tr>\n",
       "<tr>\n",
       "  <th>Time:</th>                 <td>23:53:32</td>     <th>  Log-Likelihood:    </th> <td> -25.654</td>\n",
       "</tr>\n",
       "<tr>\n",
       "  <th>No. Observations:</th>      <td>     7</td>      <th>  AIC:               </th> <td>   57.31</td>\n",
       "</tr>\n",
       "<tr>\n",
       "  <th>Df Residuals:</th>          <td>     4</td>      <th>  BIC:               </th> <td>   57.15</td>\n",
       "</tr>\n",
       "<tr>\n",
       "  <th>Df Model:</th>              <td>     2</td>      <th>                     </th>     <td> </td>   \n",
       "</tr>\n",
       "<tr>\n",
       "  <th>Covariance Type:</th>      <td>nonrobust</td>    <th>                     </th>     <td> </td>   \n",
       "</tr>\n",
       "</table>\n",
       "<table class=\"simpletable\">\n",
       "<tr>\n",
       "    <td></td>       <th>coef</th>     <th>std err</th>      <th>t</th>      <th>P>|t|</th>  <th>[0.025</th>    <th>0.975]</th>  \n",
       "</tr>\n",
       "<tr>\n",
       "  <th>const</th> <td>  252.8597</td> <td>   26.812</td> <td>    9.431</td> <td> 0.001</td> <td>  178.417</td> <td>  327.302</td>\n",
       "</tr>\n",
       "<tr>\n",
       "  <th>x</th>     <td>   -0.8249</td> <td>    0.128</td> <td>   -6.445</td> <td> 0.003</td> <td>   -1.180</td> <td>   -0.470</td>\n",
       "</tr>\n",
       "<tr>\n",
       "  <th>z</th>     <td>    0.3593</td> <td>    0.552</td> <td>    0.650</td> <td> 0.551</td> <td>   -1.174</td> <td>    1.893</td>\n",
       "</tr>\n",
       "</table>\n",
       "<table class=\"simpletable\">\n",
       "<tr>\n",
       "  <th>Omnibus:</th>       <td>   nan</td> <th>  Durbin-Watson:     </th> <td>   1.646</td>\n",
       "</tr>\n",
       "<tr>\n",
       "  <th>Prob(Omnibus):</th> <td>   nan</td> <th>  Jarque-Bera (JB):  </th> <td>   0.407</td>\n",
       "</tr>\n",
       "<tr>\n",
       "  <th>Skew:</th>          <td> 0.546</td> <th>  Prob(JB):          </th> <td>   0.816</td>\n",
       "</tr>\n",
       "<tr>\n",
       "  <th>Kurtosis:</th>      <td> 2.549</td> <th>  Cond. No.          </th> <td>1.27e+03</td>\n",
       "</tr>\n",
       "</table><br/><br/>Warnings:<br/>[1] Standard Errors assume that the covariance matrix of the errors is correctly specified.<br/>[2] The condition number is large, 1.27e+03. This might indicate that there are<br/>strong multicollinearity or other numerical problems."
      ],
      "text/plain": [
       "<class 'statsmodels.iolib.summary.Summary'>\n",
       "\"\"\"\n",
       "                            OLS Regression Results                            \n",
       "==============================================================================\n",
       "Dep. Variable:                      y   R-squared:                       0.919\n",
       "Model:                            OLS   Adj. R-squared:                  0.879\n",
       "Method:                 Least Squares   F-statistic:                     22.74\n",
       "Date:                Fri, 22 Nov 2019   Prob (F-statistic):            0.00654\n",
       "Time:                        23:53:32   Log-Likelihood:                -25.654\n",
       "No. Observations:                   7   AIC:                             57.31\n",
       "Df Residuals:                       4   BIC:                             57.15\n",
       "Df Model:                           2                                         \n",
       "Covariance Type:            nonrobust                                         \n",
       "==============================================================================\n",
       "                 coef    std err          t      P>|t|      [0.025      0.975]\n",
       "------------------------------------------------------------------------------\n",
       "const        252.8597     26.812      9.431      0.001     178.417     327.302\n",
       "x             -0.8249      0.128     -6.445      0.003      -1.180      -0.470\n",
       "z              0.3593      0.552      0.650      0.551      -1.174       1.893\n",
       "==============================================================================\n",
       "Omnibus:                          nan   Durbin-Watson:                   1.646\n",
       "Prob(Omnibus):                    nan   Jarque-Bera (JB):                0.407\n",
       "Skew:                           0.546   Prob(JB):                        0.816\n",
       "Kurtosis:                       2.549   Cond. No.                     1.27e+03\n",
       "==============================================================================\n",
       "\n",
       "Warnings:\n",
       "[1] Standard Errors assume that the covariance matrix of the errors is correctly specified.\n",
       "[2] The condition number is large, 1.27e+03. This might indicate that there are\n",
       "strong multicollinearity or other numerical problems.\n",
       "\"\"\""
      ]
     },
     "execution_count": 16,
     "metadata": {},
     "output_type": "execute_result"
    }
   ],
   "source": [
    "X = houseDf.drop(['y'], axis=1)\n",
    "y = houseDf.y\n",
    "Xc = sm.add_constant(X)\n",
    "linear_regression = sm.OLS(y,Xc)\n",
    "fitted_model = linear_regression.fit()\n",
    "fitted_model.summary()"
   ]
  },
  {
   "cell_type": "markdown",
   "metadata": {},
   "source": [
    "Coef column gives the value of estimated coefficients (B0, B1, B2 etc.) .\n",
    "\n",
    "If the coef is zero then that independent variable does not predict the dependent variable correctly.\n",
    "\n",
    "Std err denotes how much each coefficient varies from the estimated value\n",
    "\n",
    "t-value - = Estimated coef/stderr\n",
    "\n",
    "P(>|t|) how likely the estimated value is zero\n",
    "\n",
    "- This value also indicates how significant a variable is to a model.\n",
    "- The smaller the value, the more significant a given variable is to the model.\n",
    "- it is better to remove variables with higher values of `P(>|t|)`"
   ]
  },
  {
   "cell_type": "markdown",
   "metadata": {},
   "source": [
    "Interpreting the Coef of the Model\n",
    "The final equation is\n",
    "\n",
    "y = 126.45 - 0.55 * x - 0.322 * z\n",
    "\n",
    "the P(>|t|) values for each parameter is\n",
    "\n",
    "Constant Term 252.85965 is 0.001 - meaning - this term is significant in predicting the output\n",
    "\n",
    "X - House Price - -0.557 is 0.098 - this term is also significant in predicting the output. z - car sales - 0.322 is 0.668 this term is not so significant in predicting the output.\n",
    "\n",
    "We do not have to omit the third variable."
   ]
  }
 ],
 "metadata": {
  "kernelspec": {
   "display_name": "Python 3",
   "language": "python",
   "name": "python3"
  },
  "language_info": {
   "codemirror_mode": {
    "name": "ipython",
    "version": 3
   },
   "file_extension": ".py",
   "mimetype": "text/x-python",
   "name": "python",
   "nbconvert_exporter": "python",
   "pygments_lexer": "ipython3",
   "version": "3.7.3"
  }
 },
 "nbformat": 4,
 "nbformat_minor": 2
}
